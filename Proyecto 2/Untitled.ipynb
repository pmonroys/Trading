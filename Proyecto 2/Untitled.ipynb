{
 "cells": [
  {
   "cell_type": "raw",
   "id": "a32b707e",
   "metadata": {},
   "source": [
    "pip install optuna"
   ]
  },
  {
   "cell_type": "raw",
   "id": "a6e8c740",
   "metadata": {},
   "source": [
    "pip install ta"
   ]
  },
  {
   "cell_type": "code",
   "execution_count": 1,
   "id": "7098f72d",
   "metadata": {},
   "outputs": [
    {
     "name": "stderr",
     "output_type": "stream",
     "text": [
      "C:\\Users\\pmonr\\anaconda3\\lib\\site-packages\\pandas\\core\\computation\\expressions.py:21: UserWarning: Pandas requires version '2.8.4' or newer of 'numexpr' (version '2.8.3' currently installed).\n",
      "  from pandas.core.computation.check import NUMEXPR_INSTALLED\n",
      "C:\\Users\\pmonr\\anaconda3\\lib\\site-packages\\pandas\\core\\arrays\\masked.py:60: UserWarning: Pandas requires version '1.3.6' or newer of 'bottleneck' (version '1.3.5' currently installed).\n",
      "  from pandas.core import (\n"
     ]
    }
   ],
   "source": [
    "from Estrategias import Operation, TradingStrategy"
   ]
  },
  {
   "cell_type": "code",
   "execution_count": null,
   "id": "e107bfec",
   "metadata": {},
   "outputs": [],
   "source": [
    "strategy = TradingStrategy('5m')\n",
    "strategy"
   ]
  },
  {
   "cell_type": "code",
   "execution_count": null,
   "id": "73719927",
   "metadata": {},
   "outputs": [],
   "source": [
    "strategy.show_ClosingPrices()"
   ]
  },
  {
   "cell_type": "code",
   "execution_count": null,
   "id": "ba925753",
   "metadata": {},
   "outputs": [],
   "source": [
    "strategy.show_RSI()"
   ]
  },
  {
   "cell_type": "code",
   "execution_count": null,
   "id": "ed9110b6",
   "metadata": {},
   "outputs": [],
   "source": [
    "strategy.show_bollinger_bands()"
   ]
  },
  {
   "cell_type": "code",
   "execution_count": null,
   "id": "335b184f",
   "metadata": {},
   "outputs": [],
   "source": [
    "strategy.show_williams_r()"
   ]
  },
  {
   "cell_type": "code",
   "execution_count": null,
   "id": "5d43372f",
   "metadata": {},
   "outputs": [],
   "source": [
    "strategy.show_MACD()"
   ]
  },
  {
   "cell_type": "code",
   "execution_count": null,
   "id": "27ac5b4b",
   "metadata": {},
   "outputs": [],
   "source": [
    "strategy.show_stochastic()"
   ]
  },
  {
   "cell_type": "code",
   "execution_count": null,
   "id": "fac7ebfd",
   "metadata": {},
   "outputs": [],
   "source": [
    "strategy.run_combinations()"
   ]
  },
  {
   "cell_type": "code",
   "execution_count": null,
   "id": "1d91b1dd",
   "metadata": {},
   "outputs": [],
   "source": [
    "strategy.plot_results(best = True)"
   ]
  },
  {
   "cell_type": "code",
   "execution_count": null,
   "id": "02584e17",
   "metadata": {},
   "outputs": [],
   "source": [
    "strategy.strategy_value[-1]"
   ]
  },
  {
   "cell_type": "code",
   "execution_count": null,
   "id": "ad5a2fdd",
   "metadata": {},
   "outputs": [],
   "source": [
    "strategy.optimize_parameters()"
   ]
  },
  {
   "cell_type": "code",
   "execution_count": null,
   "id": "6bb7e11a",
   "metadata": {},
   "outputs": [],
   "source": [
    "strategy.plot_results(best = True)"
   ]
  },
  {
   "cell_type": "code",
   "execution_count": null,
   "id": "404bad89",
   "metadata": {},
   "outputs": [],
   "source": [
    "strategy.strategy_value[-1]"
   ]
  },
  {
   "cell_type": "code",
   "execution_count": null,
   "id": "49f24bdc",
   "metadata": {},
   "outputs": [],
   "source": [
    "strategy.test()"
   ]
  },
  {
   "cell_type": "code",
   "execution_count": null,
   "id": "20a94f17",
   "metadata": {},
   "outputs": [],
   "source": [
    "strategy.strategy_value[-1]"
   ]
  },
  {
   "cell_type": "code",
   "execution_count": null,
   "id": "8fac6d85",
   "metadata": {},
   "outputs": [],
   "source": [
    "# Convert the 'Date' column to datetime type\n",
    "data['Date'] = pd.to_datetime(data['Date'])\n",
    "\n",
    "# Get the closing price of the first and last data\n",
    "first_close = data.iloc[0]['Close']\n",
    "last_close = data.iloc[-1]['Close']\n",
    "\n",
    "# Calculate the passive asset return\n",
    "passive_return = (last_close - first_close) / first_close\n",
    "\n",
    "print(\"The passive asset return from the first close to the last close is: {:.2%}\".format(passive_return))\n",
    "\n",
    "# Comparison with the strategy used\n",
    "cash = 1000000\n",
    "cash_final = 1107153.05\n",
    "strategy_return = (cash_final - cash) / cash\n",
    "print(\"The strategy return from the first close to the last close is: {:.2%}\".format(strategy_return))\n",
    "\n",
    "# Sort the data by date if they are not sorted\n",
    "data = data.sort_values(by='Date')\n",
    "plt.figure(figsize=(12, 8))\n",
    "plt.plot(data['Date'], data['Close'], label='Closing Price', color='blue')\n",
    "plt.title('Closing Price of the Asset')\n",
    "plt.xlabel('Date')\n",
    "plt.ylabel('Closing Price')\n",
    "plt.legend()\n",
    "plt.grid(True)\n",
    "plt.show()\n",
    "\n",
    "# Calculate the cumulative return\n",
    "data['Returns'] = data['Close'].pct_change().fillna(0)\n",
    "\n",
    "# Calculate the cumulative value\n",
    "initial_investment = cash\n",
    "data['Investment_Value'] = (1 + data['Returns']).cumprod() * initial_investment\n",
    "plt.figure(figsize=(12, 8))\n",
    "plt.plot(data['Date'], data['Investment_Value'], label='Investment Value', color='green')\n",
    "plt.title('Investment Return')\n",
    "plt.xlabel('Date')\n",
    "plt.ylabel('Investment Value')\n",
    "plt.legend()\n",
    "plt.grid(True)\n",
    "plt.show()\n",
    "\n",
    "final_value = data['Investment_Value'].iloc[-1]\n",
    "print(\"The final value of the passive investment: ${:,.2f}\".format(final_value))"
   ]
  }
 ],
 "metadata": {
  "kernelspec": {
   "display_name": "Python 3 (ipykernel)",
   "language": "python",
   "name": "python3"
  },
  "language_info": {
   "codemirror_mode": {
    "name": "ipython",
    "version": 3
   },
   "file_extension": ".py",
   "mimetype": "text/x-python",
   "name": "python",
   "nbconvert_exporter": "python",
   "pygments_lexer": "ipython3",
   "version": "3.9.13"
  }
 },
 "nbformat": 4,
 "nbformat_minor": 5
}
